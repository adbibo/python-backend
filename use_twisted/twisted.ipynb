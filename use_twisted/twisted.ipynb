{
 "cells": [
  {
   "cell_type": "code",
   "execution_count": null,
   "metadata": {
    "collapsed": true
   },
   "outputs": [],
   "source": [
    "from twisted.web import server, resource\n",
    "from twisted.internet import reactor, endpoints\n",
    "\n",
    "\n",
    "class Counter(resource.Resource):\n",
    "    isLeaf = True\n",
    "    numberRequests = 0\n",
    "\n",
    "    def render_GET(self, request):\n",
    "        self.numberRequests += 1\n",
    "        request.setHeader(b\"content-type\", b\"text/plain\")\n",
    "        content = u\"I am request #{}\\n\".format(self.numberRequests)\n",
    "        return content.encode(\"ascii\")\n",
    "\n",
    "\n",
    "endpoints.serverFromString(reactor, \"tcp:8080\").listen(server.Site(Counter()))\n",
    "reactor.run()\n"
   ]
  }
 ],
 "metadata": {
  "kernelspec": {
   "display_name": "Python 2",
   "language": "python",
   "name": "python2"
  },
  "language_info": {
   "codemirror_mode": {
    "name": "ipython",
    "version": 2
   },
   "file_extension": ".py",
   "mimetype": "text/x-python",
   "name": "python",
   "nbconvert_exporter": "python",
   "pygments_lexer": "ipython2",
   "version": "2.7.6"
  }
 },
 "nbformat": 4,
 "nbformat_minor": 0
}
